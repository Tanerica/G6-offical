{
  "cells": [
    {
      "cell_type": "markdown",
      "id": "133fe413",
      "metadata": {
        "id": "133fe413"
      },
      "source": [
        "# <div style=\"text-align: center; color: red;\">BÁO CÁO NHẬP MÔN TRÍ TUỆ NHÂN TẠO NHÓM 6</div>\n",
        "# <div style=\"text-align: center; color: red;\">CHỦ ĐỀ: TÌM KIẾM ĐƯỜNG ĐI TRONG MÊ CUNG</div>"
      ]
    },
    {
      "cell_type": "markdown",
      "id": "bd8a77d3",
      "metadata": {
        "id": "bd8a77d3"
      },
      "source": [
        "## I. MÔ TẢ CHỦ ĐỀ VÀ PHÂN CHIA CÔNG VIỆC"
      ]
    },
    {
      "cell_type": "markdown",
      "id": "24c7ea05",
      "metadata": {
        "id": "24c7ea05"
      },
      "source": [
        "### 1. PHÂN TÍCH BÀI TOÁN"
      ]
    },
    {
      "cell_type": "markdown",
      "id": "7a0d2ac9-ba4b-4621-958c-175f99001d97",
      "metadata": {
        "id": "7a0d2ac9-ba4b-4621-958c-175f99001d97"
      },
      "source": [
        "\n",
        "<!--\n",
        "<div style=\"text-align:center;\">\n",
        "    <img src=\"https://drive.google.com/uc?id=1u0P9hvs4FR-0H6R1uv5Rs0U0T9MId4jR\" alt=\"Alt text\" width=\"700\" height = 500/>\n",
        "</div> -->\n",
        "\n",
        "<!-- <img src=\"https://i1-dulich.vnecdn.net/2013/10/04/longleat-1380857661.jpg?w=1200&h=0&q=100&dpr=2&fit=crop&s=kVpRuiTA8mphGzb1OT06tw\" alt=\"Mô tả ảnh\"> -->\n",
        "\n",
        "<div style=\"text-align:center;\">\n",
        "    <img src=\"https://i1-dulich.vnecdn.net/2013/10/04/longleat-1380857661.jpg?w=1200&h=0&q=100&dpr=2&fit=crop&s=kVpRuiTA8mphGzb1OT06tw\" alt=\"Mô tả ảnh\" width=\"700\" height = 500/>\n",
        "</div>\n"
      ]
    },
    {
      "cell_type": "markdown",
      "source": [
        "1. Môi trường mê cung:\n",
        "\n",
        "- Mê cung được tạo ra với các ô vuông và tường giữa chúng.\n",
        "- Mỗi ô có thể có các tường ở các hướng Đông (E), Tây (W), Bắc (N), Nam (S).\n",
        "- Một số ô được chọn làm ô đích (goal), và một số ô khác có thể chứa các tác tử (agent).\n",
        "\n",
        "<div style=\"text-align:center;\">\n",
        "    <img src=\"https://drive.google.com/uc?id=1AMy41K7AJdDHTR5eTaDJKA-3vJkiDlCd\" alt=\"Alt text\" width=\"400\" height = 300/>\n",
        "</div>\n",
        "\n",
        "2. Tác tử (Agent):\n",
        "\n",
        "- Tác tử là đối tượng có thể di chuyển trong mê cung để tìm đường đến ô đích.\n",
        "- Có thể có nhiều tác tử trên mê cung.\n",
        "- Mỗi tác tử có một màu sắc và có thể có dạng vuông hoặc hình chữ nhật.\n",
        "3. Thuật toán tìm đường:\n",
        "- A-star: là một thuật toán tìm kiếm đường đi thông tin có tính đến cả chi phí và heuristic. Nó sử dụng một hàm đánh giá f(n) = g(n) + h(n), trong đó g(n) là chi phí từ đỉnh ban đầu đến đỉnh n, và h(n) là ước lượng khoảng cách từ đỉnh n đến đích. A* chọn các đỉnh để mở rộng dựa trên giá trị f(n), ưu tiên các đỉnh có f(n) thấp.\n",
        "- BFS (Breadth-First Search): BFS là thuật toán tìm kiếm theo chiều rộng. Nó khám phá đồng thời tất cả các đỉnh cùng cấp trước khi đi sâu vào các đỉnh kế tiếp. Trong mê cung, BFS có thể được sử dụng để tìm đường đi ngắn nhất từ đỉnh ban đầu đến đỉnh đích.\n",
        "- DFS (Depth-First Search):DFS là thuật toán tìm kiếm theo chiều sâu. Nó đi sâu vào một nhánh của đồ thị càng xa càng có thể trước khi quay lại và thử nhánh khác. Trong mê cung, DFS có thể được sử dụng để kiểm tra sự tồn tại của đường đi từ đỉnh ban đầu đến đỉnh đích.\n",
        "- Dijkstra:là thuật toán tìm kiếm đường đi ngắn nhất. Nó duyệt qua các đỉnh theo chiều rộng và cập nhật chi phí từ đỉnh ban đầu đến các đỉnh kề. Trong mê cung, Dijkstra có thể tìm ra đường đi ngắn nhất, nhưng nó có thể trở nên không hiệu quả khi chi phí trên các cạnh khác nhau\n",
        "\n",
        "4. Đường đi và Truy vết:\n",
        "\n",
        "- Tác tử có khả năng theo dõi và truy vết đường đi của mình.\n",
        "- Khi tác tử di chuyển, nó để lại dấu vết (footprints) tại vị trí trước đó trên mê cung.\n",
        "- Có khả năng truy vết từ ô đích về ô xuất phát và vẽ đường đi ngắn nhất.\n",
        "5. Hiển thị trên giao diện đồ họa:\n",
        "\n",
        "- Sử dụng thư viện Tkinter để tạo cửa sổ và canvas để hiển thị mê cung và tác tử.\n",
        "- Cung cấp chức năng hiển thị và truy vết đường đi trên giao diện đồ họa.\n",
        "<div style=\"text-align:center;\">\n",
        "    <img src=\"https://drive.google.com/uc?id=1FNRCA_BZUdzMj43igs4ZE57YXiRqbWa9\" alt=\"Alt text\" width=\"700\" height = 500/>\n",
        "</div>\n",
        "6. Giao diện người dùng:\n",
        "\n",
        "- Giao diện hiển thị mê cung và các tác tử.\n",
        "- Có thể chọn thuật toán để tìm đường và thực hiện truy vết đường đi.\n",
        "7. **Mục đích**: Tạo ra một môi trường tương tác cho việc giải quyết bài toán tìm đường đi trong mê cung và cung cấp khả năng hiển thị mê cung, đường đi, và trạng thái của các tác tử trong quá trình tìm kiếm"
      ],
      "metadata": {
        "id": "u-uU-ESSw4HI"
      },
      "id": "u-uU-ESSw4HI"
    },
    {
      "cell_type": "markdown",
      "id": "80373ff4-8fa4-4a85-b703-1d4a56488b49",
      "metadata": {
        "jp-MarkdownHeadingCollapsed": true,
        "id": "80373ff4-8fa4-4a85-b703-1d4a56488b49"
      },
      "source": [
        "### 2. THÔNG TIN THÀNH VIÊN VÀ CÔNG VIỆC\n",
        "1. **Ngô Văn Tân 20210769**\n",
        "   - Chức vụ: Leader\n",
        "   - Công việc: Vẽ mê cung và tạo môi trường\n",
        "\n",
        "2. **Lê Đức Anh 20204628**\n",
        "   - Chức vụ: Member\n",
        "   - Công việc: Thuật toán Atar và so sánh hiệu quả của các hàm heuristic khác nhau\n",
        "\n",
        "3. **Nguyễn Cảnh Phước 20215456**\n",
        "   - Chức vụ: Member\n",
        "   - Công việc: Thuật toán DFS\n",
        "\n",
        "4. **Mã Tiến Hiệp 20215365**\n",
        "   - Chức vụ: Member\n",
        "   - Công việc: Thuật toán BFS\n",
        "\n",
        "5. **Nguyễn Xuân Hiếu 20215371**\n",
        "   - Chức vụ: Member\n",
        "   - Công việc: Thuật toán Dijkstra"
      ]
    },
    {
      "cell_type": "markdown",
      "id": "1e3d1bf2",
      "metadata": {
        "id": "1e3d1bf2"
      },
      "source": [
        "## II. IMPORT CÁC THƯ VIỆN MÔI TRƯỜNG CẦN THIẾT ĐỂ VẼ MÊ CUNG (MAZE)"
      ]
    },
    {
      "cell_type": "markdown",
      "id": "b333aa42",
      "metadata": {
        "id": "b333aa42"
      },
      "source": [
        "### 1. IMPORT CÁC THƯ VIỆN CẦN THIẾT"
      ]
    },
    {
      "cell_type": "markdown",
      "source": [
        "- random: Thư viện để thực hiện các hoạt động liên quan đến số ngẫu nhiên.\n",
        "- tkinter: Thư viện đồ họa chính trong Python, được sử dụng để tạo các đối tượng giao diện người dùng.\n",
        "- Enum: Class để tạo các kiểu dữ liệu liệt kê (enumeration).\n",
        "- deque: Thư viện để tạo hàng đợi (queue) có thể mở rộng ở cả hai đầu.\n",
        "- timeit: Thư viện để đo thời gian thực thi của đoạn mã.\n",
        "- PriorityQueue: Class hàng đợi ưu tiên, sử dụng trong các thuật toán tìm kiếm đường đi.\n",
        "- math: Các hàm tính toán từ thư viện toán học\n"
      ],
      "metadata": {
        "id": "ghMx3Yiz7mso"
      },
      "id": "ghMx3Yiz7mso"
    },
    {
      "cell_type": "code",
      "execution_count": null,
      "id": "6c7a4b7f",
      "metadata": {
        "id": "6c7a4b7f"
      },
      "outputs": [],
      "source": [
        "import random\n",
        "from tkinter import *\n",
        "from enum import Enum\n",
        "from collections import deque\n",
        "from timeit import timeit\n",
        "from queue import PriorityQueue\n",
        "from math import sqrt\n",
        "class COLOR(Enum):\n",
        "    dark=('gray11','white')\n",
        "    # theme color #values represent the Canvas color\n",
        "    # and the Maze Line color respectively.\n",
        "    # color for agent the first value is the color of the Agent\n",
        "    # and the second is the color of its footprint\n",
        "    black=('black','dim gray')\n",
        "    red=('red3','tomato')\n",
        "    cyan=('cyan4','cyan4')\n",
        "    green=('green4','pale green')\n",
        "    blue=('DeepSkyBlue4','DeepSkyBlue2')\n",
        "    yellow=('yellow2','yellow2')"
      ]
    },
    {
      "cell_type": "markdown",
      "id": "272852be",
      "metadata": {
        "id": "272852be"
      },
      "source": [
        "### 2. VẼ MÊ CUNG BẰNG TKINTER VÀ CANVAS"
      ]
    },
    {
      "cell_type": "markdown",
      "id": "06d5ecac",
      "metadata": {
        "id": "06d5ecac"
      },
      "source": [
        "#### a. Tác tử"
      ]
    },
    {
      "cell_type": "markdown",
      "source": [
        "- __init__: Phương thức khởi tạo, nhận các tham số như mê cung cha (parentMaze), tọa độ xuất phát (x và y), mục tiêu (goal), các cờ để xác định kích thước và dấu chân, và màu sắc của tác tử (color).\n",
        "- x và y: Thuộc tính tọa độ x và y của tác tử. Có decorator @property và @x.setter để xử lý lấy và gán giá trị.\n",
        "- position: Thuộc tính tổng hợp của x và y.\n",
        "__body: Danh sách các vị trí trước đó của tác tử trong mê cung.\n",
        "- footprints: Biến kiểm soát việc vẽ dấu chân của tác tử khi di chuyển.\n",
        "color: Màu sắc của tác tử.\n",
        "- __head: ID của hình vuông đại diện cho tác tử được vẽ trên canvas.\n",
        "- __parentMaze: Mê cung mà tác tử đang thuộc về\n",
        "<div style=\"text-align:center;\">\n",
        "    <img src=\"https://drive.google.com/uc?id=1lhurqFAtdn0Ayx7aJbEpzRVFJPF3DnP7\" alt=\"Alt text\" width=\"700\" height = 500/>\n",
        "</div>\n"
      ],
      "metadata": {
        "id": "XvnBJHYQPlgm"
      },
      "id": "XvnBJHYQPlgm"
    },
    {
      "cell_type": "code",
      "execution_count": null,
      "id": "c5ed26a5",
      "metadata": {
        "id": "c5ed26a5"
      },
      "outputs": [],
      "source": [
        "class agent: #The agents can be placed on the maze to indcate the cell selected in Maze\n",
        "    def __init__(self,parentMaze,x=None,y=None,goal=None,filled=False,footprints=False,color:COLOR=COLOR.blue):\n",
        "        # x,y-->  vị trí của agent, mặc định là góc dưới cùng bên trái maze\n",
        "        # goal-->     Mặc định là (1,1)\n",
        "        # footprints->When agent move to other cell, its footprints on the previous cell can be placed by making this True\n",
        "        # color-->    Color of the agent và footprints của nó\n",
        "        # position--> Tọa độ hiện tại của agent (x,y)\n",
        "        self._parentMaze=parentMaze #mê cung mà agent đang đứng\n",
        "        self.color=color # chọn màu cho agent\n",
        "        self.filled=filled # điều chỉnh kích thước tác tử true = to, false = bé\n",
        "        if x is None:x=parentMaze.rows # nếu không khởi tạo vị trí xuất phát của agent\n",
        "        if y is None:y=parentMaze.cols # thì mặc định là [rows, cols] --> điểm cuối của maze\n",
        "        self.x=x\n",
        "        self.y=y\n",
        "        self.footprints=footprints\n",
        "        self._parentMaze._agents.append(self) # thêm agent vào danh sách agent của mê cung\n",
        "        if goal==None: self.goal=self._parentMaze._goal # nếu goal = None thì sẽ chọn goal mặc định (1,1)\n",
        "        else:          self.goal=goal\n",
        "        self._body=[] # theo dõi các vị trí trước đó của mê cung\n",
        "        self.position=(self.x,self.y) # cập nhật vị trí xuất phát của agent\n",
        "\n",
        "    @property # giống getter trong java\n",
        "    def x(self): return self._x\n",
        "    @x.setter # giống setter trong java\n",
        "    def x(self,newX): self._x=newX\n",
        "    @property\n",
        "    def y(self): return self._y\n",
        "    @y.setter\n",
        "    def y(self,newY):\n",
        "        self._y=newY\n",
        "        w=self._parentMaze._cell_width # w là kíc thước của 1 cell\n",
        "        x=self.x*w-w+self._parentMaze._LabWidth\n",
        "        y=self.y*w-w+self._parentMaze._LabWidth\n",
        "        if self.filled:\n",
        "                self._coord=(y, x,y + w, x + w) # tạo hình vuông to\n",
        "        else:   # tạo hình vuông nhỏ với kích thước được thu gọn so với hình vuông to\n",
        "                self._coord=(y + w/2.5, x + w/2.5,y + w/2.5 +w/4, x + w/2.5 +w/4)\n",
        "        #coord là tọa độ gồm 4 tham số xác định 1 vị trí trên canvas tkinter\n",
        "        self._head=self._parentMaze._canvas.create_rectangle(*self._coord,fill=self.color.value[0],outline='')#stipple='gray75'\n",
        "        # tạo ra 1 hình vuông với tọa độ cooord --> là tác tử được vẽ lên mê cung nhờ canvas\n",
        "\n",
        "        self._parentMaze._redrawCell(self.x,self.y,theme=self._parentMaze.theme)\n",
        "    @property\n",
        "    def position(self):\n",
        "        return (self.x,self.y)\n",
        "    @position.setter\n",
        "    def position(self,newpos):\n",
        "        self.x=newpos[0]\n",
        "        self.y=newpos[1]\n",
        "        self._position=newpos"
      ]
    },
    {
      "cell_type": "markdown",
      "id": "fbaf085c",
      "metadata": {
        "id": "fbaf085c"
      },
      "source": [
        "#### b. TextLabel (Nhãn hiển thị thông tin của thuật toán tìm kiếm)"
      ]
    },
    {
      "cell_type": "markdown",
      "source": [
        "\n",
        "<div style=\"text-align:center;\">\n",
        "    <img src=\"https://drive.google.com/uc?id=1pfIBB21skDWYBint-wEpxQnR1gNm_A6D\" alt=\"Alt text\" width=\"500\" height = 400/>\n",
        "</div>"
      ],
      "metadata": {
        "id": "gpoF6heZeHr6"
      },
      "id": "gpoF6heZeHr6"
    },
    {
      "cell_type": "code",
      "execution_count": null,
      "id": "2f427b06",
      "metadata": {
        "id": "2f427b06"
      },
      "outputs": [],
      "source": [
        "class textLabel: # tạo các nhãn\n",
        "    def __init__(self,parentMaze,title,value):\n",
        "        self.title=title\n",
        "        self._value=value\n",
        "        self._parentMaze=parentMaze # parentmaze-->   The maze on which Label will be displayed.\n",
        "        self._var=None\n",
        "        self.drawLabel()\n",
        "    @property\n",
        "    def value(self): return self._value\n",
        "    @value.setter\n",
        "    def value(self,v): # set lại value khi thay đổi\n",
        "        self._value=v\n",
        "        self._var.set(f'{self.title} : {v}')\n",
        "    def drawLabel(self):\n",
        "        self._var = StringVar()\n",
        "        self.lab = Label(self._parentMaze._canvas, textvariable=self._var, bg=\"white\", fg=\"black\",font=('Helvetica bold',12),relief=RIDGE)\n",
        "        self._var.set(f'{self.title} : {self.value}') # nhãn sẽ có cấu trúc title - value\n",
        "        self.lab.pack(expand = True,side=LEFT,anchor=NW) #expand = true-> cho phép mở rộng ko gian trống\n",
        "        #anchor = NW -> nhãn nằm ở góc tây bắc North West\n",
        "        #side = LEFT --> nhãn nằm ở bên trái --> nhãn nằm ở góc trên bên trái"
      ]
    },
    {
      "cell_type": "markdown",
      "id": "c7691f84",
      "metadata": {
        "id": "c7691f84"
      },
      "source": [
        "#### c. Tạo mê cung"
      ]
    },
    {
      "cell_type": "markdown",
      "source": [
        "1. Khởi Tạo Biến và Chuẩn Bị\n",
        "- _stack: Dùng để theo dõi các ô trong quá trình tạo mê cung.\n",
        "- _closed: Dùng để theo dõi các ô đã được duyệt.\n",
        "- self.theme: Lưu màu sắc của mê cung.\n",
        "- self._goal: Lưu mục tiêu của mê cung, được chọn mặc định là (x, y)\n",
        "2. Tạo Mê Cung Bằng Recursive Backtracker\n",
        "Khởi Tạo:\n",
        "- cell = []: Tạo một danh sách rỗng để lưu các hướng có thể đi từ ô hiện tại.\n",
        "Duyệt qua các hướng (East, West, North, South), kiểm tra xem ô kế bên có trong mê cung chưa và có thuộc ô lưới hay không. Nếu thỏa mãn, thêm hướng đó vào danh sách cell.\n",
        "- Chọn Hướng Ngẫu Nhiên:\n",
        "\n",
        "   + Nếu có ít nhất một hướng trong danh sách cell, chọn một hướng ngẫu nhiên từ danh sách.\n",
        "   + Mở tường tương ứng và cập nhật đường đi path.\n",
        "- Di Chuyển và Thêm Ô Mới vào Stack:\n",
        "\n",
        "   + Di chuyển đến ô mới theo hướng đã chọn.\n",
        "   + Thêm ô mới vào danh sách các ô đã đóng (đã thăm).\n",
        "   + Thêm ô mới vào stack để duyệt tiếp.\n",
        "- Quay Lại Nếu Không Có Hướng Tiếp Theo:\n",
        "\n",
        "   + Nếu không có hướng nào khả dụng, quay lại ô trước đó bằng cách lấy ô từ stack.\n",
        "   + Lặp lại quá trình này cho đến khi stack rỗng, tức là đã duyệt qua tất cả các ô có thể trong mê cung, tạo ra một mê cung hoàn chỉnh với đường đi ngẫu nhiên."
      ],
      "metadata": {
        "id": "iR56lIL-S5EN"
      },
      "id": "iR56lIL-S5EN"
    },
    {
      "cell_type": "code",
      "execution_count": null,
      "id": "79edb161",
      "metadata": {
        "id": "79edb161"
      },
      "outputs": [],
      "source": [
        "class maze: #This is the main class to create maze.\n",
        "    def __init__(self,rows=10,cols=10): #Need to pass just the two arguments. The rest will be assigned automatically\n",
        "        self.rows=rows #rows--> No. of rows of the maze\n",
        "        self.cols=cols #cols--> No. of columns of the maze\n",
        "        self.maze_map={} #maze_map--> Will be set to a Dicationary\n",
        "        # Keys will be cells and values will be another dictionary with keys=['E','W','N','S'] for\n",
        "        # East West North South and values will be 0 or 1. 0 means direction(EWNS) is blocked, 1 means direction is open.\n",
        "        self.grid=[] #grid--> A list of all cells\n",
        "        self.path={} # Shortest path from start(bottom right) to goal(by default top left).It is a dictionary\n",
        "        self._cell_width=50  #is cell width calculated automatically\n",
        "        self._win=None # tạo 1 giao diện cửa sổ window để đặt mê cung vào\n",
        "        self._canvas=None # tạo 1 đối tượng canvas để vẽ mê cung\n",
        "        self._agents=[] #_agents-->  A list of aganets on the maze\n",
        "        self.markCells=[] #Will be used to mark some particular cell during path trace by the agent\n",
        "    @property\n",
        "    def grid(self): return self._grid\n",
        "    @grid.setter\n",
        "    def grid(self,n): # tạo grid và set tất cả các cell đều có tường bao quanh\n",
        "        self._grid=[]\n",
        "        y=0\n",
        "        for n in range(self.cols): # mục đích để thiết lập tọa độ các ô là (1,1) -->(row, col)\n",
        "            x = 1\n",
        "            y = 1+y\n",
        "            for m in range(self.rows):\n",
        "                self.grid.append((x,y))\n",
        "                self.maze_map[x,y]={'E':0,'W':0,'N':0,'S':0}\n",
        "                x = x + 1\n",
        "    def _Open_East(self,x, y): # xóa tưởng ở phía East\n",
        "        self.maze_map[x,y]['E']=1 # mở tường hướng E ở mê cung đang xét\n",
        "        if y+1<=self.cols: # nếu bên phải đang còn ô\n",
        "            self.maze_map[x,y+1]['W']=1 # set phía W của ô đó là 1\n",
        "    def _Open_West(self,x, y):\n",
        "        self.maze_map[x,y]['W']=1\n",
        "        if y-1>0:\n",
        "            self.maze_map[x,y-1]['E']=1\n",
        "    def _Open_North(self,x, y):\n",
        "        self.maze_map[x,y]['N']=1\n",
        "        if x-1>0:\n",
        "            self.maze_map[x-1,y]['S']=1\n",
        "    def _Open_South(self,x, y):\n",
        "        self.maze_map[x,y]['S']=1\n",
        "        if x+1<=self.rows:\n",
        "            self.maze_map[x+1,y]['N']=1\n",
        "\n",
        "    def CreateMaze(self,x=1,y=1,theme:COLOR=COLOR.dark):#important function to create a Random Maze\n",
        "        _stack=[]\n",
        "        _closed=[] # lưu những ô đã thăm\n",
        "        self.theme=theme\n",
        "        self._goal=(x,y) # mặc định là (1,1)\n",
        "        # generate a randomly maze\n",
        "        _stack.append((x,y))\n",
        "        _closed.append((x,y))\n",
        "        while len(_stack) > 0:\n",
        "            cell = []\n",
        "            if(x , y +1) not in _closed and (x , y+1) in self.grid:     cell.append(\"E\")\n",
        "            if (x , y-1) not in _closed and (x , y-1) in self.grid:     cell.append(\"W\")\n",
        "            if (x+1, y ) not in _closed and (x+1 , y ) in self.grid:    cell.append(\"S\")\n",
        "            if (x-1, y ) not in _closed and (x-1 , y) in self.grid:     cell.append(\"N\")\n",
        "            if len(cell) > 0:\n",
        "                current_cell = (random.choice(cell))\n",
        "                if current_cell == \"E\":\n",
        "                        self._Open_East(x,y)\n",
        "                        self.path[x, y+1] = x, y\n",
        "                        y = y + 1\n",
        "                        _closed.append((x, y))\n",
        "                        _stack.append((x, y))\n",
        "                elif current_cell == \"W\":\n",
        "                        self._Open_West(x, y)\n",
        "                        self.path[x , y-1] = x, y\n",
        "                        y = y - 1\n",
        "                        _closed.append((x, y))\n",
        "                        _stack.append((x, y))\n",
        "                elif current_cell == \"N\":\n",
        "                        self._Open_North(x, y)\n",
        "                        self.path[(x-1 , y)] = x, y\n",
        "                        x = x - 1\n",
        "                        _closed.append((x, y))\n",
        "                        _stack.append((x, y))\n",
        "                elif current_cell == \"S\":\n",
        "                        self._Open_South(x, y)\n",
        "                        self.path[(x+1 , y)] = x, y\n",
        "                        x = x + 1\n",
        "                        _closed.append((x, y))\n",
        "                        _stack.append((x, y))\n",
        "\n",
        "            else:\n",
        "                x, y = _stack.pop()\n",
        "        ## Multiple Path Loops\n",
        "        midx = self.rows // 2\n",
        "        choices = [1] * 9 + [0] * 1\n",
        "        for mid_cell_y in range(2,self.cols-2):\n",
        "            t = random.choice(choices)\n",
        "            if t :\n",
        "               self._Open_North(midx, mid_cell_y)\n",
        "               self._Open_South(midx, mid_cell_y)\n",
        "               self._Open_West(midx-1, mid_cell_y)\n",
        "               self._Open_East(midx+1, mid_cell_y)\n",
        "        midy = self.cols // 2\n",
        "        for mid_cell_x in range(2,self.rows-2):\n",
        "            t = random.choice(choices)\n",
        "            if t :\n",
        "               self._Open_North(mid_cell_x, midy)\n",
        "               self._Open_South(mid_cell_x, midy)\n",
        "               self._Open_West(mid_cell_x, midy-1)\n",
        "               self._Open_East(mid_cell_x, midy+1)\n",
        "        self._drawMaze(self.theme)\n",
        "        agent(self,*self._goal,filled=True,color=COLOR.green)\n",
        "\n",
        "    def _drawMaze(self,theme): # tạo mê cung bằng tkinter\n",
        "        self._LabWidth=26 # Space from the top for Labels, width of Label\n",
        "        self._win=Tk()\n",
        "        self._win.state('zoomed') # mở rộng cửa sổ để chiếm toàn bộ màn hình\n",
        "        self._win.title('G6 INTRO AI') # tiêu đề của cửa sổ\n",
        "        scr_width=self._win.winfo_screenwidth() # width của cửa sổ window mặc định - tùy máy tính (14 inch, 15 inch)\n",
        "        scr_height=self._win.winfo_screenheight() # height của cửa sổ window hiển thị\n",
        "        self._win.geometry(f\"{scr_width}x{scr_height}+0+0\") # tạo 1 window với kích thước width-height\n",
        "        self._canvas = Canvas(width=scr_width, height=scr_height, bg=theme.value[0]) # 0,0 is top left corner\n",
        "        self._canvas.pack(expand=YES, fill=BOTH)\n",
        "        # Some calculations for calculating the width of the maze cell\n",
        "        k=3.25\n",
        "        if self.rows>=95 and self.cols>=95:   k=0\n",
        "        elif self.rows>=80 and self.cols>=80: k=1\n",
        "        elif self.rows>=70 and self.cols>=70: k=1.5\n",
        "        elif self.rows>=50 and self.cols>=50: k=2\n",
        "        elif self.rows>=35 and self.cols>=35: k=2.5\n",
        "        elif self.rows>=22 and self.cols>=22: k=3\n",
        "        self._cell_width=round(min(((scr_height-self.rows-k*self._LabWidth)/(self.rows)),((scr_width-self.cols-k*self._LabWidth)/(self.cols)),90),3)\n",
        "        # min cell_width >= 90 và làm tròn đến 3 chữ số phần thập phân\n",
        "        # Creating Maze lines\n",
        "        if self._win is not None:\n",
        "            if self.grid is not None:\n",
        "                for cell in self.grid:\n",
        "                    x,y=cell\n",
        "                    w=self._cell_width #x,y,w --> tính tọa độ của tường -line trong create_line\n",
        "                    x=x*w-w+self._LabWidth\n",
        "                    y=y*w-w+self._LabWidth\n",
        "                    if self.maze_map[cell]['E']==False:\n",
        "                        l=self._canvas.create_line(y + w, x, y + w, x + w,width=2,fill=theme.value[1],tag='line')\n",
        "                    if self.maze_map[cell]['W']==False:\n",
        "                        l=self._canvas.create_line(y, x, y, x + w,width=2,fill=theme.value[1],tag='line')\n",
        "                    if self.maze_map[cell]['N']==False:\n",
        "                        l=self._canvas.create_line(y, x, y + w, x,width=2,fill=theme.value[1],tag='line')\n",
        "                    if self.maze_map[cell]['S']==False:\n",
        "                        l=self._canvas.create_line(y, x + w, y + w, x + w,width=2,fill=theme.value[1],tag='line')\n",
        "\n",
        "    def _redrawCell(self,x,y,theme):\n",
        "        # To redraw a cell. With Full sized square agent, it can overlap with maze lines\n",
        "        # So the cell is redrawn so that cell lines are on top\n",
        "        w=self._cell_width\n",
        "        cell=(x,y)\n",
        "        x=x*w-w+self._LabWidth\n",
        "        y=y*w-w+self._LabWidth\n",
        "        if self.maze_map[cell]['E']==False:\n",
        "            self._canvas.create_line(y + w, x, y + w, x + w,width=2,fill=theme.value[1])\n",
        "        if self.maze_map[cell]['W']==False:\n",
        "            self._canvas.create_line(y, x, y, x + w,width=2,fill=theme.value[1])\n",
        "        if self.maze_map[cell]['N']==False:\n",
        "            self._canvas.create_line(y, x, y + w, x,width=2,fill=theme.value[1])\n",
        "        if self.maze_map[cell]['S']==False:\n",
        "            self._canvas.create_line(y, x + w, y + w, x + w,width=2,fill=theme.value[1])\n",
        "\n",
        "    _tracePathList=[]\n",
        "    def _tracePathSingle(self,a,p,kill,showMarked,delay):#tracePath method for tracing a path by agent.\n",
        "        def killAgent(a): #if the agent should be killed after it reaches the Goal or completes the path\n",
        "            for i in range(len(a._body)):\n",
        "                self._canvas.delete(a._body[i])\n",
        "            self._canvas.delete(a._head)\n",
        "        w=self._cell_width\n",
        "        if((a.x,a.y) in self.markCells and showMarked):\n",
        "            w=self._cell_width\n",
        "            x=a.x*w-w+self._LabWidth\n",
        "            y=a.y*w-w+self._LabWidth\n",
        "            self._canvas.create_oval(y + w/2.5+w/20, x + w/2.5+w/20,y + w/2.5 +w/4-w/20, x + w/2.5 +w/4-w/20,fill='red',outline='red',tag='ov')\n",
        "            self._canvas.tag_raise('ov')\n",
        "\n",
        "        if (a.x,a.y)==(a.goal):\n",
        "            del maze._tracePathList[0][0][a]\n",
        "            if maze._tracePathList[0][0]=={}:\n",
        "                del maze._tracePathList[0]\n",
        "                if len(maze._tracePathList)>0:\n",
        "                    self.tracePath(maze._tracePathList[0][0],kill=maze._tracePathList[0][1],delay=maze._tracePathList[0][2])\n",
        "            if kill:\n",
        "                self._win.after(300, killAgent,a)\n",
        "            return\n",
        "        # If path is provided as Dictionary\n",
        "        if(type(p)==dict):\n",
        "            if(len(p)==0):\n",
        "                del maze._tracePathList[0][0][a]\n",
        "                return\n",
        "            a.x,a.y=p[(a.x,a.y)]\n",
        "        # If path is provided as String\n",
        "        if (type(p)==str):\n",
        "            if(len(p)==0):\n",
        "                del maze._tracePathList[0][0][a]\n",
        "                if maze._tracePathList[0][0]=={}:\n",
        "                    del maze._tracePathList[0]\n",
        "                    if len(maze._tracePathList)>0:\n",
        "                        self.tracePath(maze._tracePathList[0][0],kill=maze._tracePathList[0][1],delay=maze._tracePathList[0][2])\n",
        "                if kill:\n",
        "                    self._win.after(300, killAgent,a)\n",
        "                return\n",
        "            # tính toán lại tọa độ của agent khi di chuyển\n",
        "            move=p[0]\n",
        "            if move=='E':\n",
        "                if a.y+1<=self.cols: a.y+=1\n",
        "            elif move=='W':\n",
        "                if a.y-1>0: a.y-=1\n",
        "            elif move=='N':\n",
        "                if a.x-1>0: a.x-=1\n",
        "            elif move=='S':\n",
        "                if a.x+1<=self.rows: a.x+=1\n",
        "            p=p[1:] # cho agent trỏ đến vị trí tiếp theo\n",
        "        # If path is provided as List\n",
        "        if (type(p)==list):\n",
        "            if(len(p)==0):\n",
        "                del maze._tracePathList[0][0][a]\n",
        "                if maze._tracePathList[0][0]=={}:\n",
        "                    del maze._tracePathList[0]\n",
        "                    if len(maze._tracePathList)>0:\n",
        "                        self.tracePath(maze._tracePathList[0][0],kill=maze._tracePathList[0][1],delay=maze._tracePathList[0][2])\n",
        "                if kill:\n",
        "                    self._win.after(300, killAgent,a)\n",
        "                return\n",
        "            a.x,a.y=p[0]\n",
        "            del p[0]\n",
        "        self._win.after(delay, self._tracePathSingle,a,p,kill,showMarked,delay)\n",
        "\n",
        "    def tracePath(self,d,kill=False,delay=200,showMarked=False):\n",
        "        #A method to trace path by agent you can provide more than one agent/path details\n",
        "        self._tracePathList.append((d,kill,delay))\n",
        "        if maze._tracePathList[0][0]==d:\n",
        "            for a,p in d.items():\n",
        "                if a.goal!=(a.x,a.y) and len(p)!=0:\n",
        "                    self._tracePathSingle(a,p,kill,showMarked,delay)\n",
        "    def run(self):\n",
        "        self._win.mainloop() # hàm trong tkinter để run app\n"
      ]
    },
    {
      "cell_type": "markdown",
      "id": "ada892c8",
      "metadata": {
        "id": "ada892c8"
      },
      "source": [
        "## III. THUẬT TOÁN A_Star VÀ SO SÁNH CÁC HEURISTIC"
      ]
    },
    {
      "cell_type": "markdown",
      "id": "fed75eec-42ca-4793-a2dd-b2d575ee428f",
      "metadata": {
        "id": "fed75eec-42ca-4793-a2dd-b2d575ee428f"
      },
      "source": [
        "### 1. Phân tích thuật toán"
      ]
    },
    {
      "cell_type": "markdown",
      "source": [
        "1. Hàm Heuristic Euclide và Manhattan:\n",
        "- h_euclide(cell1, cell2): Tính khoảng cách Euclide giữa hai ô trên mê cung.\n",
        "\n",
        "  + cell1, cell2: Tọa độ của hai ô.\n",
        "  + Trả về giá trị Euclide giữa chúng, sử dụng khi ta được phép di chuyển theo mọi hướng.\n",
        "- h_mahattan(cell1, cell2): Tính khoảng cách Manhattan giữa hai ô trên mê cung.\n",
        "\n",
        "  + cell1, cell2: Tọa độ của hai ô.\n",
        "  + Trả về giá trị Manhattan, sử dụng khi ta được phép di chuyển theo 4 hướng lên xuống trái phải.\n",
        "- h_diagonal(cell1, cells): Tính khoảng cách Diagonal giữa hai ô trên mê cung.\n",
        "\n",
        "  + cell1, cell2: Tọa độ của hai ô.\n",
        "  + Trả về giá trị Diagonal, sử dụng khi ta được phép di chuyển theo 8 hướng lên xuống trái phải và 4 đường chéo.\n",
        "2. Thuật Toán A - Hàm aStar(m, h, start=None):*\n",
        "- Khởi Tạo:\n",
        "\n",
        " + open: Hàng đợi ưu tiên để lưu các ô cần kiểm tra theo chi phí ưu tiên tăng dần.\n",
        " + aPath: Tạo một từ điển để lưu quá trình tìm đường từ ô đích về ô start.\n",
        " + g_score: Tạo một từ điển để lưu chi phí từ ô start đến ô hiện tại.\n",
        " + f_score: Tạo một từ điển để lưu chi phí toàn cảnh từ ô start đến ô hiện tại thông qua ô hiện tại.\n",
        "- Duyệt Các Ô:\n",
        "\n",
        " + Trong khi hàng đợi open không rỗng:\n",
        " + Lấy ô hiện tại (currCell) với chi phí ưu tiên thấp nhất.\n",
        " + Nếu currCell là ô đích, thoát khỏi vòng lặp.\n",
        " + Duyệt qua các hướng (d) và kiểm tra các ô con có thể đi được.\n",
        "Nếu chi phí mới nhỏ hơn chi phí hiện tại của ô con, cập nhật các giá trị và thêm ô con vào hàng đợi.\n",
        "- Truy Vết Đường Đi:\n",
        "\n",
        " + Sử dụng aPath để truy vết đường đi từ ô đích về ô start.\n",
        " + Kết quả trả về một danh sách searchPath ghi lại toàn bộ quá trình duyệt.\n",
        "3. So Sánh Heuristics:\n",
        "Đoạn code dùng thuật toán A* với hai hàm heuristic khác nhau để so sánh hiệu quả:\n",
        "Cả hai hàm heuristic được áp dụng để đánh giá chi phí và hiệu suất của thuật toán A* trong việc tìm đường trong mê cung.\n",
        "- Kết Luận:\n",
        " + Thuật toán A* sử dụng hàng đợi ưu tiên để tối ưu hóa việc tìm kiếm đường đi.\n",
        " + Hàm heuristic được sử dụng để ước lượng chi phí còn lại từ ô hiện tại đến ô đích, giúp thuật toán tìm kiếm hướng tốt nhất.\n",
        " + So sánh hiệu quả của hai hàm heuristic khác nhau giúp đánh giá cách chúng ảnh hưởng đến tốc độ và chi phí của thuật toán trong bài toán tìm đường trong mê cung.\n"
      ],
      "metadata": {
        "id": "K1ARZL_LVHdl"
      },
      "id": "K1ARZL_LVHdl"
    },
    {
      "cell_type": "markdown",
      "source": [
        "\n",
        "<div style=\"text-align:center;\">\n",
        "    <img src=\"https://drive.google.com/uc?id=1508lO1b5dhemvSGA5oGPI_RSKVFja4Mz\" alt=\"Alt text\" width=\"700\" height = 500/>\n",
        "</div>"
      ],
      "metadata": {
        "id": "RAYrpRR9Dzgt"
      },
      "id": "RAYrpRR9Dzgt"
    },
    {
      "cell_type": "code",
      "execution_count": null,
      "id": "cf9d82b3",
      "metadata": {
        "id": "cf9d82b3"
      },
      "outputs": [],
      "source": [
        "def h_euclide(cell1, cell2): #heuristic cho tọa độ 2 ô\n",
        "    x1, y1 = cell1\n",
        "    x2, y2 = cell2\n",
        "    return sqrt((x1-x2)**2+(y1-y2)**2) # Euclide\n",
        "def h_mahattan(cell1, cell2): #heuristic cho tọa độ 2 ô\n",
        "    x1, y1 = cell1\n",
        "    x2, y2 = cell2\n",
        "    return (abs(x1 - x2) + abs(y1 - y2)) # mahattan\n",
        "def h_diagonal(cell1, cell2): #heuristic cho tọa độ 2 ô\n",
        "    x1, y1 = cell1\n",
        "    x2, y2 = cell2\n",
        "\n",
        "    dx = abs(x1 - x2)\n",
        "    dy = abs(y1 - y2)\n",
        "\n",
        "    # dx = abs(current_cell.x – goal.x)\n",
        "    # dy = abs(current_cell.y – goal.y)\n",
        "\n",
        "    h = 1*(dx+dy) + (sqrt(2)-2*1)*min(dx,dy)\n",
        "    # h = D * (dx + dy) + (D2 - 2 * D) * min(dx, dy)\n",
        "    # where D is length of each node(usually = 1) and D2 is diagonal distance between each node (usually = sqrt(2) ).\n",
        "    return h\n",
        "\n",
        "def aStar(m,h,start=None): #m is a maze with rows and column\n",
        "    if start is None:\n",
        "        start=(m.rows,m.cols) # điểm bắt đầu ở cuối maze, (1,1) là đích\n",
        "    open = PriorityQueue()\n",
        "    open.put((h(start, m._goal), h(start, m._goal), start))\n",
        "    aPath = {} # là kiểu từ điển theo key: value <=> child : parent\n",
        "    g_score = {row: float(\"inf\") for row in m.grid} # g là chi phí từ nút gốc đến nút hiện tại n\n",
        "    g_score[start] = 0\n",
        "    f_score = {row: float(\"inf\") for row in m.grid}\n",
        "    f_score[start] = h(start, m._goal) # nút đích, gán f khởi tạo bằng giá trị hàm heuristic từ nút gốc\n",
        "                       # đến nút hiện tại đi qua nút hiện tại, trong trường hợp này nút đích là (1,1)\n",
        "    searchPath=[start]\n",
        "    while not open.empty(): # trong khi hàng đợi ko rỗng\n",
        "        currCell=open.get()[2] # lấy ô nhỏ có giá trị f nhỏ nhất trong hàng đợi ưu tiên và gán curr\n",
        "        searchPath.append(currCell)\n",
        "        if currCell == m._goal: # nếu ô đó trùng (1,1) thì break\n",
        "            break\n",
        "        for d in 'ESNW': # east, south, north, west\n",
        "            if m.maze_map[currCell][d]==True:\n",
        "                if d=='E':\n",
        "                    childCell=(currCell[0],currCell[1]+1)\n",
        "                elif d=='W':\n",
        "                    childCell=(currCell[0],currCell[1]-1)\n",
        "                elif d=='N':\n",
        "                    childCell=(currCell[0]-1,currCell[1])\n",
        "                elif d=='S':\n",
        "                    childCell=(currCell[0]+1,currCell[1])\n",
        "\n",
        "                temp_g_score = g_score[currCell] + 1\n",
        "                temp_f_score = temp_g_score + h(childCell, m._goal) # f mới bằng g mới + h mới\n",
        "\n",
        "                if temp_f_score < f_score[childCell]: #nếu chi phí f mới < f cũ thì cập nhật f,g mới\n",
        "                    aPath[childCell] = currCell\n",
        "                    g_score[childCell] = temp_g_score\n",
        "                    f_score[childCell] = temp_g_score + h(childCell, m._goal)\n",
        "                    open.put((f_score[childCell], h(childCell, m._goal), childCell)) # ô childCell được thêm vào hàng\n",
        "    fwdPath={} # để đảo ngược lại thứ tự của aPath\n",
        "    cell=m._goal # aPath là từ đích về start còn fwdPath là từ start về đích\n",
        "    while cell!=start:\n",
        "        fwdPath[aPath[cell]]=cell # fwdPath(child: parent)\n",
        "        cell=aPath[cell] # cell = nút cha của nó\n",
        "    return searchPath,aPath,fwdPath"
      ]
    },
    {
      "cell_type": "code",
      "execution_count": null,
      "id": "86dbcfbf-08b7-41c9-8b59-4af295acaca1",
      "metadata": {
        "id": "86dbcfbf-08b7-41c9-8b59-4af295acaca1"
      },
      "outputs": [],
      "source": [
        "myMaze=maze(12,10)\n",
        "myMaze.CreateMaze() # tạo mê cung\n",
        "searchPath,aPath,fwdPath=aStar(myMaze,h_mahattan) #h_mahattan\n",
        "searchPath2,aPath2,fwdPath2=aStar(myMaze,h_euclide) #h_euclide\n",
        "searchPath3,aPath3,fwdPath3=aStar(myMaze,h_diagonal) #h_diagonal\n",
        "\n",
        "\n",
        "l=textLabel(myMaze,'ManhatPath',len(fwdPath)+1)\n",
        "l=textLabel(myMaze,'EuclidPath',len(fwdPath2)+1)\n",
        "l=textLabel(myMaze,'DiagonalPath',len(fwdPath3)+1)\n",
        "\n",
        "l=textLabel(myMaze,'ManhatSearch',len(searchPath)+1)\n",
        "l=textLabel(myMaze,'EuclidSeach',len(searchPath2)+1)\n",
        "l=textLabel(myMaze,'DiagonalSeach',len(searchPath3)+1)\n",
        "\n",
        "\n",
        "a=agent(myMaze,footprints=True,color=COLOR.cyan,filled=True)\n",
        "b=agent(myMaze,footprints=True,color=COLOR.yellow)\n",
        "c=agent(myMaze,footprints=True,color=COLOR.red)\n",
        "\n",
        "myMaze.tracePath({a:fwdPath},delay=100)\n",
        "myMaze.tracePath({b:fwdPath2},delay=100)\n",
        "myMaze.tracePath({c:fwdPath3},delay=100)\n",
        "\n",
        "\n",
        "t1=timeit(stmt='aStar(myMaze,h_mahattan)',number=100,globals=globals())\n",
        "t2=timeit(stmt='aStar(myMaze,h_euclide)',number=100,globals=globals())\n",
        "t3=timeit(stmt='aStar(myMaze,h_diagonal)',number=100,globals=globals())\n",
        "\n",
        "\n",
        "textLabel(myMaze,'Manhattan Time',t1) # hiển thị nhãn với tên Mahattan Time và thời gian t1\n",
        "textLabel(myMaze,'Euclidean Time',t2) # hiển thị nhãn với tên Euclidean Time và thời gian t2\n",
        "textLabel(myMaze,'Diagonal Time',t3) # hiển thị nhãn với tên Diagonal Time và thời gian t3\n",
        "\n",
        "\n",
        "myMaze.run()"
      ]
    },
    {
      "cell_type": "markdown",
      "id": "7b6a623a",
      "metadata": {
        "id": "7b6a623a"
      },
      "source": [
        "## IV. THUẬT TOÁN BFS"
      ]
    },
    {
      "cell_type": "markdown",
      "source": [
        "Sử dụng thuật toán BFS để giải quyết bài toán Tìm đường đi trong mê cung.\n",
        "Đoạn code sử dụng lớp 'maze' và một số tác tử 'a', 'b', 'c' để thể hiện quá trình tìm kiếm và những đường đi trong mê cung.  \n",
        "\n"
      ],
      "metadata": {
        "id": "VuwdSfltbbau"
      },
      "id": "VuwdSfltbbau"
    },
    {
      "cell_type": "markdown",
      "source": [
        "\n",
        "<div style=\"text-align:center;\">\n",
        "    <img src=\"https://drive.google.com/uc?id=1I_kpBCh-g_wAlkyQ26pJZsxDv1wnoDtt\" alt=\"Alt text\" width=\"700\" height = 500/>\n",
        "</div>\n",
        "https://drive.google.com/file/d/1X0m-LUqaHhRs_F8ogcpCz_PSz4PtaIdU/view?usp=sharing"
      ],
      "metadata": {
        "id": "dvxN15R0FUeC"
      },
      "id": "dvxN15R0FUeC"
    },
    {
      "cell_type": "markdown",
      "source": [],
      "metadata": {
        "id": "QDmLDnU6z_2O"
      },
      "id": "QDmLDnU6z_2O"
    },
    {
      "cell_type": "markdown",
      "id": "335ed6c1-95ba-4cd9-a823-34163619ca73",
      "metadata": {
        "id": "335ed6c1-95ba-4cd9-a823-34163619ca73"
      },
      "source": [
        "### 1. Phân tích thuật toán\n",
        "     \n",
        "- Khởi tạo:\n",
        "    + frontier: một deque để lưu trữ những ô đang được khám phá trong + + BFS, frontier thêm ô start vào deque đầu tiên\n",
        "    + bfsPath: một dictionary để lưu trữ mối quan hệ cha-con trong BFS\n",
        "    + explored : một list để theo dõi các ô đã được khám phá\n",
        "    + bSearch=[] :một list để lưu trữ các ô đã được khám phá trong BFS\n",
        "- Duyệt các ô:\n",
        "   + Nếu frontier không rỗng thì lấy ô bên trái của deque\n",
        "   + Nếu ô đó chưa phải đích, tìm các hướng Đông, Tây, Nam, Bắc để thêm vào deque\n",
        "   + Lặp lại cho tới khi tìm đến đích\n",
        "- Truy vết:\n",
        "   + bfsPath sẽ cho ta đường đi từ đích tới nguồn\n",
        "   + Dùng fwdPath để lưu lại đường đi từ nguồn tới đích\n",
        "\n"
      ]
    },
    {
      "cell_type": "code",
      "execution_count": null,
      "id": "80b47bb7-54f7-4c6a-be8d-0ab7a88fbfa7",
      "metadata": {
        "id": "80b47bb7-54f7-4c6a-be8d-0ab7a88fbfa7"
      },
      "outputs": [],
      "source": [
        "from collections import deque\n",
        "def BFS(m,start=None):  #khởi tạo hàm BFS\n",
        "    if start is None:\n",
        "        start=(m.rows,m.cols)\n",
        "    #khai báo các biến\n",
        "    frontier = deque()  #một deque để lưu trữ những ô đang được khám phá trong BFS\n",
        "    frontier.append(start)\n",
        "    bfsPath = {}  #một dictionary để lưu trữ mối quan hệ cha-con trong BFS\n",
        "    explored = [start] #một list để theo dõi các ô đã được khám phá\n",
        "    bSearch=[] #một list để lưu trữ các ô đã được khám phá trong BFS\n",
        "\n",
        "    #Thuật toán BFS lặp lại cho đến khi frontier trống hoặc đã đến đích\n",
        "    while len(frontier)>0:\n",
        "        currCell=frontier.popleft()\n",
        "        if currCell==m._goal: #kiểm tra nếu đã đến đích thì dừng lại\n",
        "            break\n",
        "        for d in 'ESNW':\n",
        "            if m.maze_map[currCell][d]==True: #Với mỗi ô trong frontier, kiểm tra xem những ô xung quanh\n",
        "                                              #theo các hướng 'ESNW' và khám phá những ô phù hợp\n",
        "                if d=='E':\n",
        "                    childCell=(currCell[0],currCell[1]+1)\n",
        "                elif d=='W':\n",
        "                    childCell=(currCell[0],currCell[1]-1)\n",
        "                elif d=='S':\n",
        "                    childCell=(currCell[0]+1,currCell[1])\n",
        "                elif d=='N':\n",
        "                    childCell=(currCell[0]-1,currCell[1])\n",
        "                # Nếu ô con phù hợp đã ở trong explored list thì không làm gì cả,\n",
        "                if childCell in explored:\n",
        "                    continue\n",
        "                # nếu không thì thêm ô con vào đồng thời cả frontier và explored\n",
        "                explored.append(childCell)\n",
        "                frontier.append(childCell)\n",
        "                # thêm ô mới tìm được là con của nút hiện tại\n",
        "                bfsPath[childCell] = currCell\n",
        "                # thêm ô mới vào danh sách các ô đã khám phá\n",
        "                bSearch.append(childCell)\n",
        "    #Truy ngược lại để xây dựng đường đi\n",
        "    #fwdPath là lưu đường đi từ đích tới nguồn\n",
        "    fwdPath={}\n",
        "    cell=m._goal #cell được gán là ô đích\n",
        "    while cell!=(m.rows,m.cols): #lặp lại ngược lại từ đích cho tới khi tới ô bắt đầu\n",
        "        fwdPath[bfsPath[cell]]=cell\n",
        "        cell=bfsPath[cell] #cập nhật ô hiện tại thành ô cha của nó trên đường đi\n",
        "    return bSearch,bfsPath,fwdPath\n",
        "\n",
        "if __name__=='__main__':\n",
        "\n",
        "    m=maze(17,10)\n",
        "    m.CreateMaze() #Tạo mê cung với kích thước 17x10\n",
        "    bSearch,bfsPath,fwdPath=BFS(m) #Sử dụng thuật toán\n",
        "    #Khởi tạo 3 tác tử 'a','b','c' với các thuộc tính khác nhau\n",
        "\n",
        "    a=agent(m,footprints=True,color=COLOR.yellow,filled=True)\n",
        "    b=agent(m,footprints=True,color=COLOR.red,filled=False)\n",
        "    c=agent(m,1,1,footprints=True,color=COLOR.cyan,filled=True,goal=(m.rows,m.cols))\n",
        "    m.tracePath({a:bSearch},delay=100)#tất cả các cell BFS đi qua\n",
        "    m.tracePath({c:bfsPath},delay=100)#đường đi từ đích tới nguồn\n",
        "    m.tracePath({b:fwdPath},delay=100)#đường đi từ nguồn tới đích\n",
        "    l=textLabel(m,'Length of Shortest Path',len(bfsPath)+1)#Đưa ra màn hình chiều dài đường đi ngắn nhất\n",
        "    l=textLabel(m,'Length of Shortest Path',len(bSearch)+1)\n",
        "    m.run()"
      ]
    },
    {
      "cell_type": "markdown",
      "id": "c15d8321",
      "metadata": {
        "id": "c15d8321"
      },
      "source": [
        "## V. THUẬT TOÁN DFS"
      ]
    },
    {
      "cell_type": "markdown",
      "source": [
        "<div style=\"text-align:center;\">\n",
        "    <img src=\"https://drive.google.com/uc?id=1rnNd3iR36uqx5l-baBjVcRRrbou-i0_W\" alt=\"Alt text\" width=\"600\" height = 500/>\n",
        "</div>"
      ],
      "metadata": {
        "id": "FnrW7ZN6GnmF"
      },
      "id": "FnrW7ZN6GnmF"
    },
    {
      "cell_type": "code",
      "execution_count": null,
      "id": "e51d5bb9",
      "metadata": {
        "id": "e51d5bb9"
      },
      "outputs": [],
      "source": [
        "def DFS(m,start=None):\n",
        "    if start is None:\n",
        "        start=(m.rows,m.cols)\n",
        "    explored=[start] #các ô đã được khám phá\n",
        "    frontier=[start] #ngăn xếp để thực hiện duyệt DFS\n",
        "    dfsPath={}       #đường đi\n",
        "    dSeacrh=[]       # ghi lại thứ tự khám phá các ô\n",
        "    #dsdsa\n",
        "    while len(frontier)>0: #lặp cho đến khi ngăn xếp rỗng\n",
        "        currCell=frontier.pop()  # Lấy một ô từ đỉnh ngăn xếp và ghi lại nó trong dSeacrh.\n",
        "        dSeacrh.append(currCell)\n",
        "        if currCell==m._goal: # dừng khi gặp đích\n",
        "            break\n",
        "        poss=0 #đếm số lượng hướng có thể đi từ ô hiện tại của thuật toán DFS\n",
        "        for d in 'ESNW':#Lặp qua các hướng có thể ('ESNW') và kiểm tra xem ô\n",
        "                        #lân cận ở hướng đó có hợp lệ và chưa được khám phá hay không.\n",
        "            if m.maze_map[currCell][d]==True:\n",
        "                if d =='E':\n",
        "                    child=(currCell[0],currCell[1]+1)\n",
        "                if d =='W':\n",
        "                    child=(currCell[0],currCell[1]-1)\n",
        "                if d =='N':\n",
        "                    child=(currCell[0]-1,currCell[1])\n",
        "                if d =='S':\n",
        "                    child=(currCell[0]+1,currCell[1])\n",
        "                if child in explored:\n",
        "                    continue\n",
        "                poss+=1\n",
        "                explored.append(child)\n",
        "                frontier.append(child)\n",
        "                #Dòng này gán giá trị của ô currCell (ô hiện tại)\n",
        "                #làm cha của ô child trong dfsPath, ghi lại mối quan hệ giữa các ô trong cây tìm kiếm.\n",
        "                dfsPath[child]=currCell\n",
        "        if poss>1:\n",
        "            m.markCells.append(currCell)\n",
        "    fwdPath={}\n",
        "    cell=m._goal\n",
        "    #vòng while để lấy ra đường đi từ điểm bắt đầu đến đích\n",
        "    while cell!=start:\n",
        "        fwdPath[dfsPath[cell]]=cell\n",
        "        cell=dfsPath[cell]\n",
        "\n",
        "    return dSeacrh,dfsPath,fwdPath\n",
        "\n",
        "if __name__=='__main__':\n",
        "    m=maze(10,10) # Change to any size\n",
        "    m.CreateMaze(2,4) # (2,4) is Goal Cell, Change that to any other valid cell\n",
        "\n",
        "    dSeacrh,dfsPath,fwdPath=DFS(m,(5,1)) # (5,1) is Start Cell, Change that to any other valid cell\n",
        "    #khởi tạo 3 tác tử\n",
        "    #a: tất cả các trạng thái tác tử có thể đạt được\n",
        "    #b: trả về đường đi từ đích tới nguồn\n",
        "    #c: trả về đường đi từ nguồn tới đích\n",
        "    a=agent(m,5,1,goal=(2,4),footprints=True,color=COLOR.green)\n",
        "    b=agent(m,2,4,goal=(5,1),footprints=True,filled=True)\n",
        "    c=agent(m,5,1,footprints=True,color=COLOR.yellow)\n",
        "    m.tracePath({a:dSeacrh},showMarked=True)\n",
        "    m.tracePath({b:dfsPath})\n",
        "    m.tracePath({c:fwdPath})\n",
        "    m.run()"
      ]
    },
    {
      "cell_type": "markdown",
      "source": [],
      "metadata": {
        "id": "RbZ0b9wFhQde"
      },
      "id": "RbZ0b9wFhQde"
    },
    {
      "cell_type": "markdown",
      "id": "ffab382c",
      "metadata": {
        "id": "ffab382c"
      },
      "source": [
        "## VI. SO SÁNH THUẬT TOÁN BFS VÀ DFS\n",
        "  1. Độ dài đường đi:​\n",
        "\n",
        "- BFS: Đảm bảo tìm được đường đi ngắn nhất. Do đó, nếu mục tiêu nằm ở một tầng sâu nhất, BFS sẽ tìm thấy đường đi ngắn nhất​\n",
        "\n",
        "- DFS: DFS không bảo đảm đường đi ngắn nhất. Nó có thể tìm thấy một đường đi, nhưng không nhất thiết là ngắn nhất​\n",
        "\n",
        "2. Không gian bộ nhớ:​\n",
        "\n",
        "- BFS: Yêu cầu lưu trữ tất cả các đỉnh cùng cấp trong hàng đợi. Do đó, cần nhiều không gian bộ nhớ hơn so với DFS. Đặc biệt với đồ thị lớn và mê cung có nhiều nhánh​\n",
        "\n",
        "- DFS: Yêu cầu ít không gian bộ nhớ hơn vì chỉ cần lưu trữ đường đi tại 1 thời điểm. Tuy nhiên, có thể gặp vấn đề khi đồ thị hoặc mê cung có chu trình vô hạn"
      ]
    },
    {
      "cell_type": "markdown",
      "source": [
        "\n",
        "<div style=\"text-align:center;\">\n",
        "    <img src=\"https://drive.google.com/uc?id=1TcLWUGhKnqUmVRTJipDq9dJSAL3ZZysZ\" alt=\"Alt text\" width=\"700\" height = 500/>\n",
        "</div>\n"
      ],
      "metadata": {
        "id": "EN3iBPgCHX4_"
      },
      "id": "EN3iBPgCHX4_"
    },
    {
      "cell_type": "code",
      "execution_count": null,
      "id": "22f028e6-899b-4ebe-864f-db2d8a24f81e",
      "metadata": {
        "id": "22f028e6-899b-4ebe-864f-db2d8a24f81e"
      },
      "outputs": [],
      "source": [
        "m=maze(15,10)#khởi tạo mê cung 15 hàng và 10 cột\n",
        "m.CreateMaze()\n",
        "\n",
        "searchPath,dfsPath,fwdDFSPath=DFS(m)\n",
        "#trả về các ô được thăm, đường đi từ đích tới nguồn,\n",
        "#đường đi từ nguồn tới đích của DFS\n",
        "bSearch,bfsPath,fwdBFSPath=BFS(m)\n",
        "#trả về các ô được thăm, đường đi từ đích tới nguồn,\n",
        "#đường đi từ nguồn tới đích của BFS\n",
        "\n",
        "#Hiển thị đường đi của thuật toán DFS\n",
        "textLabel(m,'DFS Path Length',len(fwdDFSPath)+1)\n",
        "#Hiển thị đường đi của thuật toán BFS\n",
        "textLabel(m,'BFS Path Length',len(fwdBFSPath)+1)\n",
        "#Hiện thị số ô được thăm bởi thuật toán DFS\n",
        "textLabel(m,'DFS Search Length',len(searchPath)+1)\n",
        "#Hiển thị số ô được thăm bởi thuật toán BFS\n",
        "textLabel(m,'BFS Search Length',len(bSearch)+1)\n",
        "\n",
        "a=agent(m,footprints=True,color=COLOR.cyan,filled=True)\n",
        "b=agent(m,footprints=True,color=COLOR.yellow)\n",
        "m.tracePath({a:fwdBFSPath},delay=100)\n",
        "m.tracePath({b:fwdDFSPath},delay=100)\n",
        "\n",
        "t1=timeit(stmt='DFS(m)',number=1000,globals=globals())\n",
        "t2=timeit(stmt='BFS(m)',number=1000,globals=globals())\n",
        "#Hiển thị thời gian của 2 thuật toán BFS và DFS\n",
        "textLabel(m,'DFS Time',t1)\n",
        "textLabel(m,'BFS Time',t2)\n",
        "\n",
        "m.run()"
      ]
    },
    {
      "cell_type": "markdown",
      "id": "4687be30",
      "metadata": {
        "id": "4687be30"
      },
      "source": [
        "## VII. THUẬT TOÁN DIJKSTRA"
      ]
    },
    {
      "cell_type": "markdown",
      "source": [
        "\n",
        "<div style=\"text-align:center;\">\n",
        "    <img src=\"https://drive.google.com/uc?id=1Ts7JQDz4JFXZYBrRqYsHQGLS7HRSjzF8\" alt=\"Alt text\" width=\"700\" height = 500/>\n",
        "</div>"
      ],
      "metadata": {
        "id": "D5LX50D3LzqN"
      },
      "id": "D5LX50D3LzqN"
    },
    {
      "cell_type": "code",
      "execution_count": null,
      "id": "23ab7067-f0f2-4467-8933-2f702a4d15df",
      "metadata": {
        "id": "23ab7067-f0f2-4467-8933-2f702a4d15df"
      },
      "outputs": [],
      "source": [
        "from pyamaze import maze,agent,COLOR,textLabel\n",
        "def dijkstra(m,*h,start=None): #*h là 1 list <=> truyền vào 1 số lượng biến không cố định\n",
        "    if start is None:\n",
        "        start=(m.rows,m.cols)\n",
        "\n",
        "    hurdles=[(i.position,i.cost) for i in h] #Tạo danh sách chướng ngại vật (hurdles) từ danh sách các agents (h),\n",
        "                                             #với mỗi chướng ngại vật bao gồm vị trí và chi phí.\n",
        "\n",
        "    unvisited={n:float('inf') for n in m.grid} # khởi tạo chi phí chưa thăm = vô cực\n",
        "    unvisited[start]=0 # Đặt chi phí của đỉnh xuất phát là 0.\n",
        "    visited={} # các đỉnh đã thăm\n",
        "    revPath={} # Lưu đường Sđi truy vết ngược lại\n",
        "    while unvisited: # khởi tạo vòng lặp cho đến khi tất cả các đỉnh được thăm\n",
        "        currCell=min(unvisited,key=unvisited.get) # Chọn đỉnh có chi phí thăm nhỏ nhất từ\n",
        "                                                  # unvisited làm đỉnh hiện tại.\n",
        "        visited[currCell]=unvisited[currCell] # Thêm đỉnh hiện tại vào danh sách đã thăm\n",
        "        if currCell==m._goal: # Nếu đỉnh hiện tại là đích, kết thúc vòng lặp\n",
        "            break\n",
        "        for d in 'EWNS':  # Duyệt qua các hướng (Đông, Tây, Nam, Bắc).\n",
        "            if m.maze_map[currCell][d]==True: # Nếu hướng đó có thể đi\n",
        "            # Xác định đỉnh con dựa trên hướng 'd'\n",
        "                if d=='E':\n",
        "                    childCell=(currCell[0],currCell[1]+1)\n",
        "                elif d=='W':\n",
        "                    childCell=(currCell[0],currCell[1]-1)\n",
        "                elif d=='S':\n",
        "                    childCell=(currCell[0]+1,currCell[1])\n",
        "                elif d=='N':\n",
        "                    childCell=(currCell[0]-1,currCell[1])\n",
        "                if childCell in visited: ## nếu đỉnh con đã được thăm thì bỏ qua\n",
        "                    continue\n",
        "                tempDist= unvisited[currCell]+1 # gọi biến tạm làm chi phí tạm thời đến đỉnh con\n",
        "                for hurdle in hurdles: # Duyệt danh sách chướng ngại vật và cộng thêm chi phí của chúng\n",
        "                    if hurdle[0]==currCell:\n",
        "                        tempDist+=hurdle[1]\n",
        "                # Nếu chi phí đến đỉnh con nhỏ hơn đang xét thì cập nhật lại đỉnh con\n",
        "                if tempDist < unvisited[childCell]:\n",
        "                    unvisited[childCell]=tempDist\n",
        "                    revPath[childCell]=currCell\n",
        "        unvisited.pop(currCell) #Loại bỏ đỉnh hiện tại khỏi danh sách chưa thăm.\n",
        "\n",
        "    fwdPath={} #Tạo một từ điển để lưu đường đi từ đỉnh xuất phát đến đỉnh cuối cùng.\n",
        "    cell=m._goal #Đặt biến đỉnh mục tiêu\n",
        "    # Truy vết ngược đường đi\n",
        "    while cell!=start:\n",
        "        fwdPath[revPath[cell]]=cell\n",
        "        cell=revPath[cell]\n",
        "\n",
        "    return fwdPath,visited[m._goal]\n",
        "\n",
        "# thực thi code\n",
        "if __name__=='__main__':\n",
        "    # Khởi tạo mê cung\n",
        "    myMaze=maze(20,15)\n",
        "    myMaze.CreateMaze(1,4)\n",
        "\n",
        "    h1=agent(myMaze,4,4,color=COLOR.red)\n",
        "    h2=agent(myMaze,4,6,color=COLOR.red)\n",
        "    h3=agent(myMaze,4,1,color=COLOR.red)\n",
        "    h4=agent(myMaze,4,2,color=COLOR.red)\n",
        "    h5=agent(myMaze,4,3,color=COLOR.red)\n",
        "\n",
        "    h1.cost=100\n",
        "    h2.cost=100\n",
        "    h3.cost=100\n",
        "    h4.cost=100\n",
        "    h5.cost=100\n",
        "\n",
        "    # path,c=dijstra(myMaze,h1,h2,h2,h3,h4,h5)\n",
        "    path,c=dijkstra(myMaze,h1,h2,h3,h4,h5,start=(16,1))\n",
        "    textLabel(myMaze,'Total Cost',c)\n",
        "\n",
        "    # a=agent(myMaze,color=COLOR.cyan,filled=True,footprints=True)\n",
        "    a=agent(myMaze,16,1,color=COLOR.cyan,filled=True,footprints=True)\n",
        "    myMaze.tracePath({a:path})\n",
        "\n",
        "    myMaze.run()"
      ]
    },
    {
      "cell_type": "markdown",
      "source": [
        "#TỔNG KẾT VÀ ĐÁNH GIÁ"
      ],
      "metadata": {
        "id": "P5nA-lrLK-n1"
      },
      "id": "P5nA-lrLK-n1"
    },
    {
      "cell_type": "markdown",
      "source": [
        "<div style=\"text-align:center;\">\n",
        "    <img src=\"https://drive.google.com/uc?id=1wQjokupi-T68N_50R641DWD4-8Pun2iB\" alt=\"Alt text\" width=\"700\" height = 500/>\n",
        "</div>"
      ],
      "metadata": {
        "id": "E7ecKt4XX6iS"
      },
      "id": "E7ecKt4XX6iS"
    },
    {
      "cell_type": "code",
      "source": [
        "from timeit import timeit\n",
        "\n",
        "# Assuming you have defined your maze class and algorithms (DFS, BFS, aStar) properly\n",
        "m = maze(30, 30)\n",
        "m.CreateMaze()\n",
        "\n",
        "dsearchPath, dfsPath, fwdDFSPath = DFS(m)\n",
        "bSearch, bfsPath, fwdBFSPath = BFS(m)\n",
        "AsearchPath,aPath,fwdPath = aStar(m, h=h_mahattan)\n",
        "dijPath, dijPath_search, len_dijPath_search = dijkstra(m)  # Assuming you have a dijkstra function\n",
        "\n",
        "# fwdPath,visited[m._goal]\n",
        "\n",
        "# Display path lengths\n",
        "textLabel(m, 'AStar', len(fwdPath) + 1)\n",
        "textLabel(m, 'DFS', len(fwdDFSPath) + 1)\n",
        "textLabel(m, 'BFS', len(fwdBFSPath) + 1)\n",
        "textLabel(m, 'Dijkstra', len(dijPath) + 1)\n",
        "\n",
        "textLabel(m, 'DFS Search', len(dsearchPath) + 1)\n",
        "textLabel(m, 'BFS Search', len(bSearch) + 1)\n",
        "textLabel(m, 'AStar Search', len(AsearchPath) + 1)\n",
        "textLabel(m, 'Dijkstra Search', len_dijPath_search )\n",
        "\n",
        "# Create agents\n",
        "a = agent(m, footprints=True, color=COLOR.cyan, filled=True)\n",
        "b = agent(m, footprints=True, color=COLOR.yellow)\n",
        "c = agent(m, footprints=True, color=COLOR.red)\n",
        "d = agent(m, footprints=True, color=COLOR.blue)\n",
        "\n",
        "# Trace paths\n",
        "m.tracePath({a: fwdBFSPath}, delay=100)\n",
        "m.tracePath({b: fwdDFSPath}, delay=100)\n",
        "m.tracePath({c: fwdPath}, delay=100)\n",
        "m.tracePath({d: dijPath}, delay=100)\n",
        "\n",
        "# Measure execution time\n",
        "t1 = timeit(stmt='DFS(m)', number=100, globals=globals())\n",
        "t2 = timeit(stmt='BFS(m)', number=100, globals=globals())\n",
        "t3 = timeit(stmt='aStar(m, h_mahattan)', number=100, globals=globals())\n",
        "t4 = timeit(stmt='dijkstra(m)', number=100, globals=globals())\n",
        "\n",
        "# Display execution times\n",
        "textLabel(m, 'DFS Time', t1)\n",
        "textLabel(m, 'BFS Time', t2)\n",
        "textLabel(m, 'Astar Time', t3)\n",
        "textLabel(m, 'Dijkstra Time', t4)\n",
        "\n",
        "# Run the maze\n",
        "m.run()"
      ],
      "metadata": {
        "id": "O9VcdPOWYL5c"
      },
      "id": "O9VcdPOWYL5c",
      "execution_count": null,
      "outputs": []
    },
    {
      "cell_type": "markdown",
      "source": [
        "<div style=\"text-align:center;\">\n",
        "    <img src=\"https://drive.google.com/uc?id=1AqE3oT__wyE2V_Qu03bh3ttV-Uq_Cyux\" alt=\"Alt text\" width=\"700\" height = 500/>\n",
        "</div>"
      ],
      "metadata": {
        "id": "F6y1czNJ04Wp"
      },
      "id": "F6y1czNJ04Wp"
    },
    {
      "cell_type": "markdown",
      "source": [
        "|    Algorithm | Time | ShotestPathLength | SearchSteps\n",
        "|:--------:|:--------:|:--------:|:--------:|\n",
        "|  BFS   |  1.707   |  87   | 879   |\n",
        "|  DFS   |  0.2451   |  239  | 290   |\n",
        "|  A*   |  0.5666   |  87   | 606   |\n",
        "|  Dijkstra   |  2.074   |  87   | 873   |"
      ],
      "metadata": {
        "id": "mEEkHCR20aIy"
      },
      "id": "mEEkHCR20aIy"
    },
    {
      "cell_type": "markdown",
      "source": [
        "\n",
        "<div style=\"text-align:center;\">\n",
        "    <img src=\"https://drive.google.com/uc?id=1Jk3l3CfgvSI5p6aV9a8tni0K0zMcm95f\" alt=\"Alt text\" width=\"700\" height = 500/>\n",
        "</div>"
      ],
      "metadata": {
        "id": "2h1Q2vuY06bY"
      },
      "id": "2h1Q2vuY06bY"
    },
    {
      "cell_type": "markdown",
      "source": [
        "|    Algorithm | Time | ShotestPathLength | SearchSteps\n",
        "|:--------:|:--------:|:--------:|:--------:|\n",
        "|  BFS   |  1.714   |  91   | 837   |\n",
        "|  DFS   |  0.6563   |  153  | 463   |\n",
        "|  A*   |  0.4187   |  91   | 479   |\n",
        "|  Dijkstra   |  2.072   |  91   | 832   |"
      ],
      "metadata": {
        "id": "3IXcQrXw0iuV"
      },
      "id": "3IXcQrXw0iuV"
    },
    {
      "cell_type": "markdown",
      "source": [
        "Kết luận\n",
        "- Thuật toán DFS, A* luôn tìm kiếm trong thời gian ngắn nhất so với thuật toán BFS và Dijkstra\n",
        "- Thuật toán DFS lại không tìm được đường đi ngắn nhất với đa phần mê cung được tạo ra\n",
        "- Thuật toán A* có thể tìm được đường đi ngắn nhất trong hầu hết các trường hợp mê cung được tạo ra và trong thời gian ngắn\n",
        "- Thuật toán BFS, Dijkstra luôn tìm được đường đi ngắn nhất nhưng chi phí về thời gian cũng lớn"
      ],
      "metadata": {
        "id": "-mRsbcRt0qBC"
      },
      "id": "-mRsbcRt0qBC"
    },
    {
      "cell_type": "markdown",
      "source": [
        "# Khó khăn và khắc phục\n",
        "1. Về thuật toán: Các thành viên đều đã được tìm hiểu thông qua mã giả và cần phải hiện thực hóa ra thành những đoạn code python\n",
        "2. Về công nghệ code giao diện: nhóm đã gặp khó khăn trong việc tìm hiểu các công cụ code giao diện. Và đã thống nhất sử dụng Canvas trong thư viện đồ họa Tkinter để mô phỏng các đối tượng trong mê cung. Sau khi thống nhất nhóm đã triển khai bài toán rất nhanh.\n",
        "3. Viết báo cáo trên jupyter notebook: Nhóm đã cố gắng học hỏi và trao đổi với nhau để từng thành viên có thể tự trình bày phần báo cáo của mình trên google collab - 1 nền tảng online để cả nhóm có thể làm việc."
      ],
      "metadata": {
        "id": "haUWT25D5iRc"
      },
      "id": "haUWT25D5iRc"
    },
    {
      "cell_type": "markdown",
      "source": [
        "# Tài liệu tham khảo\n",
        "1. https://github.com/YeyoM/mazeSolver\n",
        "2. https://www.youtube.com/watch?v=W9zSr9jnoqY&list=PLWF9TXck7O_zsqnufs62t26_LJnLo4VRA&index=5\n",
        "3. https://github.com/MAN1986/pyamaze/tree/main/Demos/A-Star"
      ],
      "metadata": {
        "id": "KnXuy2VCOk-J"
      },
      "id": "KnXuy2VCOk-J"
    }
  ],
  "metadata": {
    "kernelspec": {
      "display_name": "Python 3 (ipykernel)",
      "language": "python",
      "name": "python3"
    },
    "language_info": {
      "codemirror_mode": {
        "name": "ipython",
        "version": 3
      },
      "file_extension": ".py",
      "mimetype": "text/x-python",
      "name": "python",
      "nbconvert_exporter": "python",
      "pygments_lexer": "ipython3",
      "version": "3.11.5"
    },
    "colab": {
      "provenance": [],
      "toc_visible": true
    }
  },
  "nbformat": 4,
  "nbformat_minor": 5
}